{
 "cells": [
  {
   "cell_type": "markdown",
   "id": "9716c771",
   "metadata": {},
   "source": [
    "# Peer-graded Assignment: Analyzing Historical Stock/Revenue Data and Building a Dashboard\n",
    "\n",
    "## Table of Contents:\n",
    "- Question 1 - Extracting Tesla Stock Data Using yfinance - 2 Points\n",
    "- Question 2 - Extracting Tesla Revenue Data Using Webscraping - 1 Points\n",
    "- Question 3 - Extracting GameStop Stock Data Using yfinance - 2 Points\n",
    "- Question 4 - Extracting GameStop Revenue Data Using Webscraping - 1 Points\n",
    "- Question 5 - Tesla Stock and Revenue Dashboard - 2 Points\n",
    "- Question 6 - GameStop Stock and Revenue Dashboard- 2 Points\n",
    "- Question 7 - Sharing your Assignment Notebook - 2 Points"
   ]
  },
  {
   "cell_type": "markdown",
   "id": "1af371dd",
   "metadata": {},
   "source": [
    "## Importing required libraries"
   ]
  },
  {
   "cell_type": "code",
   "execution_count": 2,
   "id": "be6b9c8a",
   "metadata": {},
   "outputs": [
    {
     "name": "stderr",
     "output_type": "stream",
     "text": [
      "ERROR: pip's dependency resolver does not currently take into account all the packages that are installed. This behaviour is the source of the following dependency conflicts.\n",
      "conda-repo-cli 1.0.4 requires pathlib, which is not installed.\n",
      "anaconda-project 0.9.1 requires ruamel-yaml, which is not installed.\n"
     ]
    }
   ],
   "source": [
    "!pip install pandas matplotlib seaborn --quiet\n",
    "!pip install yfinance bs4 requests --quiet"
   ]
  }
 ],
 "metadata": {
  "kernelspec": {
   "display_name": "Python 3",
   "language": "python",
   "name": "python3"
  },
  "language_info": {
   "codemirror_mode": {
    "name": "ipython",
    "version": 3
   },
   "file_extension": ".py",
   "mimetype": "text/x-python",
   "name": "python",
   "nbconvert_exporter": "python",
   "pygments_lexer": "ipython3",
   "version": "3.8.8"
  }
 },
 "nbformat": 4,
 "nbformat_minor": 5
}
