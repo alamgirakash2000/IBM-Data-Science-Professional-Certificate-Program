{
 "cells": [
  {
   "cell_type": "markdown",
   "id": "48cca4ab",
   "metadata": {},
   "source": [
    "# Peer-graded Assignment: Analyzing Historical Stock/Revenue Data and Building a Dashboard\n",
    "\n",
    "## Table of Contents:\n",
    "- Question 1 - Extracting Tesla Stock Data Using yfinance - 2 Points\n",
    "- Question 2 - Extracting Tesla Revenue Data Using Webscraping - 1 Points\n",
    "- Question 3 - Extracting GameStop Stock Data Using yfinance - 2 Points\n",
    "- Question 4 - Extracting GameStop Revenue Data Using Webscraping - 1 Points\n",
    "- Question 5 - Tesla Stock and Revenue Dashboard - 2 Points\n",
    "- Question 6 - GameStop Stock and Revenue Dashboard- 2 Points\n",
    "- Question 7 - Sharing your Assignment Notebook - 2 Points"
   ]
  },
  {
   "cell_type": "markdown",
   "id": "a9a335f9",
   "metadata": {},
   "source": [
    "For Help [Repo](https://github.com/Smokymirror81/Analyzing-Historical-Stock-Revenue-Data-and-Building-a-Dashboard/blob/main/Final%20Assignment.ipynb)"
   ]
  },
  {
   "cell_type": "markdown",
   "id": "d326a167",
   "metadata": {},
   "source": [
    "## Importing required libraries"
   ]
  },
  {
   "cell_type": "code",
   "execution_count": 3,
   "id": "cb4aa6cd",
   "metadata": {},
   "outputs": [],
   "source": [
    "!pip install pandas matplotlib seaborn --quiet\n",
    "!pip install yfinance bs4 requests --quiet"
   ]
  },
  {
   "cell_type": "code",
   "execution_count": 4,
   "id": "71d06d80",
   "metadata": {},
   "outputs": [],
   "source": [
    "import yfinance as yf\n",
    "import requests\n",
    "from bs4 import BeautifulSoup\n",
    "import pandas as pd\n",
    "import matplotlib\n",
    "import matplotlib.pyplot as plt\n",
    "import seaborn as sns\n",
    "%matplotlib inline\n",
    "\n",
    "# For better visualization\n",
    "sns.set_style('darkgrid')\n",
    "matplotlib.rcParams['font.size'] = 14\n",
    "matplotlib.rcParams['figure.figsize'] = (10, 6)\n",
    "matplotlib.rcParams['figure.facecolor'] = '#00000000'"
   ]
  },
  {
   "cell_type": "markdown",
   "id": "d28bf82e",
   "metadata": {},
   "source": [
    "## Question 1: Use yfinance to Extract Stock Data\n",
    "Using the Ticker function enter the ***ticker*** symbol of the stock we want to extract data on to create a ticker object. The stock is Tesla and its ticker symbol is ***TSLA***."
   ]
  },
  {
   "cell_type": "code",
   "execution_count": 6,
   "id": "476d9520",
   "metadata": {},
   "outputs": [],
   "source": [
    "tesla = yf.Ticker(\"TSLA\")"
   ]
  },
  {
   "cell_type": "markdown",
   "id": "c3e91f00",
   "metadata": {},
   "source": [
    "Using the ticker object and the function history extract stock information and save it in a dataframe named tesla_data. Set the period parameter to max so we get information for the maximum amount of time."
   ]
  },
  {
   "cell_type": "code",
   "execution_count": 7,
   "id": "a6e76ba0",
   "metadata": {},
   "outputs": [],
   "source": [
    "tesla_data = tesla.history(period=\"max\")"
   ]
  },
  {
   "cell_type": "code",
   "execution_count": 8,
   "id": "e234279d",
   "metadata": {},
   "outputs": [
    {
     "data": {
      "text/html": [
       "<div>\n",
       "<style scoped>\n",
       "    .dataframe tbody tr th:only-of-type {\n",
       "        vertical-align: middle;\n",
       "    }\n",
       "\n",
       "    .dataframe tbody tr th {\n",
       "        vertical-align: top;\n",
       "    }\n",
       "\n",
       "    .dataframe thead th {\n",
       "        text-align: right;\n",
       "    }\n",
       "</style>\n",
       "<table border=\"1\" class=\"dataframe\">\n",
       "  <thead>\n",
       "    <tr style=\"text-align: right;\">\n",
       "      <th></th>\n",
       "      <th>Open</th>\n",
       "      <th>High</th>\n",
       "      <th>Low</th>\n",
       "      <th>Close</th>\n",
       "      <th>Volume</th>\n",
       "      <th>Dividends</th>\n",
       "      <th>Stock Splits</th>\n",
       "    </tr>\n",
       "    <tr>\n",
       "      <th>Date</th>\n",
       "      <th></th>\n",
       "      <th></th>\n",
       "      <th></th>\n",
       "      <th></th>\n",
       "      <th></th>\n",
       "      <th></th>\n",
       "      <th></th>\n",
       "    </tr>\n",
       "  </thead>\n",
       "  <tbody>\n",
       "    <tr>\n",
       "      <th>2010-06-29</th>\n",
       "      <td>3.800</td>\n",
       "      <td>5.000</td>\n",
       "      <td>3.508</td>\n",
       "      <td>4.778</td>\n",
       "      <td>93831500</td>\n",
       "      <td>0</td>\n",
       "      <td>0.0</td>\n",
       "    </tr>\n",
       "    <tr>\n",
       "      <th>2010-06-30</th>\n",
       "      <td>5.158</td>\n",
       "      <td>6.084</td>\n",
       "      <td>4.660</td>\n",
       "      <td>4.766</td>\n",
       "      <td>85935500</td>\n",
       "      <td>0</td>\n",
       "      <td>0.0</td>\n",
       "    </tr>\n",
       "    <tr>\n",
       "      <th>2010-07-01</th>\n",
       "      <td>5.000</td>\n",
       "      <td>5.184</td>\n",
       "      <td>4.054</td>\n",
       "      <td>4.392</td>\n",
       "      <td>41094000</td>\n",
       "      <td>0</td>\n",
       "      <td>0.0</td>\n",
       "    </tr>\n",
       "    <tr>\n",
       "      <th>2010-07-02</th>\n",
       "      <td>4.600</td>\n",
       "      <td>4.620</td>\n",
       "      <td>3.742</td>\n",
       "      <td>3.840</td>\n",
       "      <td>25699000</td>\n",
       "      <td>0</td>\n",
       "      <td>0.0</td>\n",
       "    </tr>\n",
       "    <tr>\n",
       "      <th>2010-07-06</th>\n",
       "      <td>4.000</td>\n",
       "      <td>4.000</td>\n",
       "      <td>3.166</td>\n",
       "      <td>3.222</td>\n",
       "      <td>34334500</td>\n",
       "      <td>0</td>\n",
       "      <td>0.0</td>\n",
       "    </tr>\n",
       "  </tbody>\n",
       "</table>\n",
       "</div>"
      ],
      "text/plain": [
       "             Open   High    Low  Close    Volume  Dividends  Stock Splits\n",
       "Date                                                                     \n",
       "2010-06-29  3.800  5.000  3.508  4.778  93831500          0           0.0\n",
       "2010-06-30  5.158  6.084  4.660  4.766  85935500          0           0.0\n",
       "2010-07-01  5.000  5.184  4.054  4.392  41094000          0           0.0\n",
       "2010-07-02  4.600  4.620  3.742  3.840  25699000          0           0.0\n",
       "2010-07-06  4.000  4.000  3.166  3.222  34334500          0           0.0"
      ]
     },
     "execution_count": 8,
     "metadata": {},
     "output_type": "execute_result"
    }
   ],
   "source": [
    "tesla_data.head()"
   ]
  }
 ],
 "metadata": {
  "kernelspec": {
   "display_name": "Python 3",
   "language": "python",
   "name": "python3"
  },
  "language_info": {
   "codemirror_mode": {
    "name": "ipython",
    "version": 3
   },
   "file_extension": ".py",
   "mimetype": "text/x-python",
   "name": "python",
   "nbconvert_exporter": "python",
   "pygments_lexer": "ipython3",
   "version": "3.8.8"
  }
 },
 "nbformat": 4,
 "nbformat_minor": 5
}
