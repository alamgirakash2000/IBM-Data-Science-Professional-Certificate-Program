{
 "cells": [
  {
   "cell_type": "markdown",
   "id": "d7c6cd3d",
   "metadata": {},
   "source": [
    "# Peer-graded Assignment: Final Assignment\n",
    "This assignment is a part of ***[IBM Data visualization with python](https://www.coursera.org/learn/python-for-data-visualization)*** Course which is hosted on **Coursera**."
   ]
  },
  {
   "cell_type": "code",
   "execution_count": 1,
   "id": "0356ecc9",
   "metadata": {},
   "outputs": [
    {
     "name": "stdout",
     "output_type": "stream",
     "text": [
      "Dash, plotly are installed\n"
     ]
    }
   ],
   "source": [
    "!pip install dash jupyter_dash plotly --quiet\n",
    "print(\"Dash, plotly are installed\")"
   ]
  },
  {
   "cell_type": "markdown",
   "id": "03e91fd9",
   "metadata": {},
   "source": [
    "### Importing Libraries"
   ]
  },
  {
   "cell_type": "code",
   "execution_count": 2,
   "id": "3710da40",
   "metadata": {},
   "outputs": [
    {
     "name": "stderr",
     "output_type": "stream",
     "text": [
      "<ipython-input-2-36011881d0ae>:4: UserWarning: \n",
      "The dash_html_components package is deprecated. Please replace\n",
      "`import dash_html_components as html` with `from dash import html`\n",
      "  import dash_html_components as html\n",
      "<ipython-input-2-36011881d0ae>:5: UserWarning: \n",
      "The dash_core_components package is deprecated. Please replace\n",
      "`import dash_core_components as dcc` with `from dash import dcc`\n",
      "  import dash_core_components as dcc\n"
     ]
    }
   ],
   "source": [
    "# Import required libraries\n",
    "import pandas as pd\n",
    "import dash\n",
    "import dash_html_components as html\n",
    "import dash_core_components as dcc\n",
    "from dash.dependencies import Input, Output, State\n",
    "from jupyter_dash import JupyterDash\n",
    "import plotly.graph_objects as go\n",
    "import plotly.express as px\n",
    "from dash import no_update"
   ]
  },
  {
   "cell_type": "markdown",
   "id": "2fc7600c",
   "metadata": {},
   "source": [
    "#### Create a dash application"
   ]
  },
  {
   "cell_type": "code",
   "execution_count": 3,
   "id": "c0dae7fe",
   "metadata": {},
   "outputs": [],
   "source": [
    "app = dash.Dash(__name__)"
   ]
  },
  {
   "cell_type": "markdown",
   "id": "f4d4d207",
   "metadata": {},
   "source": [
    "#### Clear the layout and do not display exception till callback gets executed"
   ]
  },
  {
   "cell_type": "code",
   "execution_count": 4,
   "id": "ac50cf5b",
   "metadata": {},
   "outputs": [],
   "source": [
    "app.config.suppress_callback_exceptions = True"
   ]
  },
  {
   "cell_type": "markdown",
   "id": "230de873",
   "metadata": {},
   "source": [
    "## Read the airline data"
   ]
  },
  {
   "cell_type": "code",
   "execution_count": 5,
   "id": "48fa956c",
   "metadata": {},
   "outputs": [],
   "source": [
    "airline_data =  pd.read_csv('https://cf-courses-data.s3.us.cloud-object-storage.appdomain.cloud/IBMDeveloperSkillsNetwork-DV0101EN-SkillsNetwork/Data%20Files/airline_data.csv', \n",
    "                            encoding = \"ISO-8859-1\",\n",
    "                            dtype={'Div1Airport': str, 'Div1TailNum': str, \n",
    "                                   'Div2Airport': str, 'Div2TailNum': str})"
   ]
  },
  {
   "cell_type": "markdown",
   "id": "af1f5b57",
   "metadata": {},
   "source": [
    "### Compute graph data for yearly airline performance report"
   ]
  },
  {
   "cell_type": "code",
   "execution_count": 6,
   "id": "bd445db1",
   "metadata": {},
   "outputs": [],
   "source": [
    "year_list = [i for i in range(2005, 2021, 1)]\n",
    "def compute_data_choice_1(df):\n",
    "    # Cancellation Category Count\n",
    "    bar_data = df.groupby(['Month','CancellationCode'])['Flights'].sum().reset_index()\n",
    "    # Average flight time by reporting airline\n",
    "    line_data = df.groupby(['Month','Reporting_Airline'])['AirTime'].mean().reset_index()\n",
    "    # Diverted Airport Landings\n",
    "    div_data = df[df['DivAirportLandings'] != 0.0]\n",
    "    # Source state count\n",
    "    map_data = df.groupby(['OriginState'])['Flights'].sum().reset_index()\n",
    "    # Destination state count\n",
    "    tree_data = df.groupby(['DestState', 'Reporting_Airline'])['Flights'].sum().reset_index()\n",
    "    return bar_data, line_data, div_data, map_data, tree_data\n"
   ]
  },
  {
   "cell_type": "markdown",
   "id": "93d7bfb9",
   "metadata": {},
   "source": [
    "### Compute graph data for yearly airline delay report"
   ]
  },
  {
   "cell_type": "code",
   "execution_count": 7,
   "id": "c36e84a0",
   "metadata": {},
   "outputs": [],
   "source": [
    "def compute_data_choice_2(df):\n",
    "    # Compute delay averages\n",
    "    avg_car = df.groupby(['Month','Reporting_Airline'])['CarrierDelay'].mean().reset_index()\n",
    "    avg_weather = df.groupby(['Month','Reporting_Airline'])['WeatherDelay'].mean().reset_index()\n",
    "    avg_NAS = df.groupby(['Month','Reporting_Airline'])['NASDelay'].mean().reset_index()\n",
    "    avg_sec = df.groupby(['Month','Reporting_Airline'])['SecurityDelay'].mean().reset_index()\n",
    "    avg_late = df.groupby(['Month','Reporting_Airline'])['LateAircraftDelay'].mean().reset_index()\n",
    "    return avg_car, avg_weather, avg_NAS, avg_sec, avg_late"
   ]
  },
  {
   "cell_type": "markdown",
   "id": "0104c30a",
   "metadata": {},
   "source": [
    "## Creating Application layout and Callback functions"
   ]
  },
  {
   "cell_type": "code",
   "execution_count": 8,
   "id": "99c7d3fd",
   "metadata": {},
   "outputs": [],
   "source": [
    "# Creating Application layout\n",
    "app.layout = html.Div(children=[ html.H1(\n",
    "                                'US Domestic Airline Flights Performance', # Add title to the dashboard\n",
    "                                style={'textAlign': 'center', 'color': '#503D36', 'font-size': 24}),\n",
    "    \n",
    "                                # Dropdown creation\n",
    "                                # Create an outer division \n",
    "                                html.Div([\n",
    "                                    # Add a division\n",
    "                                    html.Div([\n",
    "                                        # Create a division for adding dropdown helper text for report type\n",
    "                                        html.Div(\n",
    "                                            [\n",
    "                                            html.H2('Report Type:', style={'margin-right': '2em'}),\n",
    "                                            ]\n",
    "                                        ),\n",
    "                                        # Add a dropdown\n",
    "                                        dcc.Dropdown(id='input-type', \n",
    "                                            options=[\n",
    "                                                    {'label': 'Yearly Airline Performance Report', 'value': 'OPT1'},\n",
    "                                                    {'label': 'Yearly Airline Delay Report', 'value': 'OPT2'}\n",
    "                                                    ],\n",
    "                                            placeholder='Select a report type',\n",
    "                                            style={'width': '80%', 'padding': '3px', 'font-size': '20px', 'text-align-last': 'center'})                                        \n",
    "                                        \n",
    "                                    # Place them next to each other using the division style\n",
    "                                    ], style={'display':'flex'}),\n",
    "                                    \n",
    "                                   # Add next division \n",
    "                                   html.Div([\n",
    "                                       # Create a division for adding dropdown helper text for choosing year\n",
    "                                        html.Div(\n",
    "                                            [\n",
    "                                            html.H2('Choose Year:', style={'margin-right': '2em'})\n",
    "                                            ]\n",
    "                                        ),\n",
    "                                        dcc.Dropdown(id='input-year', \n",
    "                                                     # Update dropdown values using list comphrehension\n",
    "                                                     options=[{'label': i, 'value': i} for i in year_list],\n",
    "                                                     placeholder=\"Select a year\",\n",
    "                                                     style={'width':'80%', 'padding':'3px', 'font-size': '20px', 'text-align-last' : 'center'}),\n",
    "                                            # Place them next to each other using the division style\n",
    "                                            ], style={'display': 'flex'}),  \n",
    "                                          ]),\n",
    "                                \n",
    "                                # Add Computed graphs\n",
    "                                # Add empty divisions providing an id that will be updated during callback\n",
    "                                html.Div([ ], id='plot1'),\n",
    "    \n",
    "                                html.Div([\n",
    "                                        html.Div([ ], id='plot2'),\n",
    "                                        html.Div([ ], id='plot3')\n",
    "                                ], style={'display': 'flex'}),\n",
    "                                \n",
    "                                # Add another division with two empty divisions inside.                                  \n",
    "                                html.Div([\n",
    "                                        html.Div([ ], id='plot4'),\n",
    "                                        html.Div([ ], id='plot5')\n",
    "                                ], style={'display': 'flex'}),                               \n",
    "                                ])\n",
    "\n",
    "# Setting up callback functions\n",
    "@app.callback( [Output(component_id='plot1', component_property='children'),\n",
    "                Output(component_id='plot2', component_property='children'),\n",
    "                Output(component_id='plot3', component_property='children'),\n",
    "                Output(component_id='plot4', component_property='children'),\n",
    "                Output(component_id='plot5', component_property='children')],\n",
    "               [Input(component_id='input-type', component_property='value'),\n",
    "                Input(component_id='input-year', component_property='value')],\n",
    "               # Holding output state till user enters all the form information. In this case, it will be chart type and year\n",
    "               [State(\"plot1\", 'children'), State(\"plot2\", \"children\"),\n",
    "                State(\"plot3\", \"children\"), State(\"plot4\", \"children\"),\n",
    "                State(\"plot5\", \"children\")\n",
    "               ])\n",
    "\n",
    "\n",
    "\n",
    "# Add computation to callback function and return graph\n",
    "def get_graph(chart, year, children1, children2, c3, c4, c5):\n",
    "      \n",
    "        # Select data\n",
    "        df =  airline_data[airline_data['Year']==int(year)]\n",
    "       \n",
    "        if chart == 'OPT1':\n",
    "            # Compute required information for creating graph from the data\n",
    "            bar_data, line_data, div_data, map_data, tree_data = compute_data_choice_1(df)\n",
    "            \n",
    "            # Number of flights under different cancellation categories\n",
    "            bar_fig = px.bar(bar_data, x='Month', y='Flights', color='CancellationCode', title='Monthly Flight Cancellation')\n",
    "            \n",
    "            # Average flight time by reporting airline\n",
    "            line_fig = px.line(line_data, x='Month', y='AirTime', color='Reporting_Airline', title='Average monthly flight time (minutes) by airline')            \n",
    "            \n",
    "            # Percentage of diverted airport landings per reporting airline\n",
    "            pie_fig = px.pie(div_data, values='Flights', names='Reporting_Airline', title='% of flights by reporting airline')\n",
    "            \n",
    "            # Number of flights flying from each state using choropleth\n",
    "            map_fig = px.choropleth(map_data,  # Input data\n",
    "                    locations='OriginState', \n",
    "                    color='Flights',  \n",
    "                    hover_data=['OriginState', 'Flights'], \n",
    "                    locationmode = 'USA-states', # Set to plot as US States\n",
    "                    color_continuous_scale='GnBu',\n",
    "                    range_color=[0, map_data['Flights'].max()]) \n",
    "            map_fig.update_layout(\n",
    "                    title_text = 'Number of flights from origin state', \n",
    "                    geo_scope='usa') # Plot only the USA instead of globe\n",
    "            \n",
    "            # Number of flights flying to each state from each reporting airline\n",
    "            tree_fig = px.treemap(tree_data, path=['DestState', 'Reporting_Airline'], values='Flights',\n",
    "                                    color='Flights', color_continuous_scale='RdBu', \n",
    "                                    title='Flight count by airline to destination state') \n",
    "            \n",
    "            # Return dcc.Graph component to the empty division\n",
    "            return [dcc.Graph(figure=tree_fig), \n",
    "                    dcc.Graph(figure=pie_fig),\n",
    "                    dcc.Graph(figure=map_fig),\n",
    "                    dcc.Graph(figure=bar_fig),\n",
    "                    dcc.Graph(figure=line_fig)\n",
    "                   ]\n",
    "        else: \n",
    "            # Compute required information for creating graph from the data\n",
    "            avg_car, avg_weather, avg_NAS, avg_sec, avg_late = compute_data_choice_2(df)\n",
    "            \n",
    "            # Create graph\n",
    "            carrier_fig = px.line(avg_car, x='Month', y='CarrierDelay', color='Reporting_Airline', title='Average carrrier delay time (minutes) by airline')\n",
    "            weather_fig = px.line(avg_weather, x='Month', y='WeatherDelay', color='Reporting_Airline', title='Average weather delay time (minutes) by airline')\n",
    "            nas_fig = px.line(avg_NAS, x='Month', y='NASDelay', color='Reporting_Airline', title='Average NAS delay time (minutes) by airline')\n",
    "            sec_fig = px.line(avg_sec, x='Month', y='SecurityDelay', color='Reporting_Airline', title='Average security delay time (minutes) by airline')\n",
    "            late_fig = px.line(avg_late, x='Month', y='LateAircraftDelay', color='Reporting_Airline', title='Average late aircraft delay time (minutes) by airline')\n",
    "            \n",
    "            return[dcc.Graph(figure=carrier_fig), \n",
    "                   dcc.Graph(figure=weather_fig), \n",
    "                   dcc.Graph(figure=nas_fig), \n",
    "                   dcc.Graph(figure=sec_fig), \n",
    "                   dcc.Graph(figure=late_fig)]"
   ]
  },
  {
   "cell_type": "markdown",
   "id": "a5017d84",
   "metadata": {},
   "source": [
    "## Run the app at the server"
   ]
  },
  {
   "cell_type": "code",
   "execution_count": null,
   "id": "d406fda5",
   "metadata": {},
   "outputs": [
    {
     "name": "stdout",
     "output_type": "stream",
     "text": [
      "Dash is running on http://127.0.0.1:8050/\n",
      "\n",
      " * Serving Flask app \"__main__\" (lazy loading)\n",
      " * Environment: production\n",
      "   WARNING: This is a development server. Do not use it in a production deployment.\n",
      "   Use a production WSGI server instead.\n",
      " * Debug mode: off\n"
     ]
    },
    {
     "name": "stderr",
     "output_type": "stream",
     "text": [
      " * Running on http://127.0.0.1:8050/ (Press CTRL+C to quit)\n",
      "127.0.0.1 - - [18/Apr/2022 19:45:22] \"\u001b[37mGET / HTTP/1.1\u001b[0m\" 200 -\n",
      "127.0.0.1 - - [18/Apr/2022 19:45:22] \"\u001b[37mGET /_dash-layout HTTP/1.1\u001b[0m\" 200 -\n",
      "127.0.0.1 - - [18/Apr/2022 19:45:22] \"\u001b[37mGET /_dash-dependencies HTTP/1.1\u001b[0m\" 200 -\n",
      "127.0.0.1 - - [18/Apr/2022 19:45:22] \"\u001b[37mGET /_dash-component-suites/dash/dcc/async-dropdown.js HTTP/1.1\u001b[0m\" 200 -\n"
     ]
    },
    {
     "name": "stdout",
     "output_type": "stream",
     "text": [
      "Exception on /_dash-update-component [POST]\n",
      "Traceback (most recent call last):\n",
      "  File \"C:\\Users\\alamg\\anaconda3\\lib\\site-packages\\flask\\app.py\", line 2447, in wsgi_app\n",
      "    response = self.full_dispatch_request()\n",
      "  File \"C:\\Users\\alamg\\anaconda3\\lib\\site-packages\\flask\\app.py\", line 1952, in full_dispatch_request\n",
      "    rv = self.handle_user_exception(e)\n",
      "  File \"C:\\Users\\alamg\\anaconda3\\lib\\site-packages\\flask\\app.py\", line 1821, in handle_user_exception\n",
      "    reraise(exc_type, exc_value, tb)\n",
      "  File \"C:\\Users\\alamg\\anaconda3\\lib\\site-packages\\flask\\_compat.py\", line 39, in reraise\n",
      "    raise value\n",
      "  File \"C:\\Users\\alamg\\anaconda3\\lib\\site-packages\\flask\\app.py\", line 1950, in full_dispatch_request\n",
      "    rv = self.dispatch_request()\n",
      "  File \"C:\\Users\\alamg\\anaconda3\\lib\\site-packages\\flask\\app.py\", line 1936, in dispatch_request\n",
      "    return self.view_functions[rule.endpoint](**req.view_args)\n",
      "  File \"C:\\Users\\alamg\\anaconda3\\lib\\site-packages\\dash\\dash.py\", line 1383, in dispatch\n",
      "    response.set_data(func(*args, outputs_list=outputs_list))\n",
      "  File \"C:\\Users\\alamg\\anaconda3\\lib\\site-packages\\dash\\_callback.py\", line 151, in add_context\n",
      "    output_value = func(*func_args, **func_kwargs)  # %% callback invoked %%\n",
      "  File \"<ipython-input-8-c5db833fd72f>\", line 82, in get_graph\n",
      "    df =  airline_data[airline_data['Year']==int(year)]\n",
      "TypeError: int() argument must be a string, a bytes-like object or a number, not 'NoneType'\n"
     ]
    },
    {
     "name": "stderr",
     "output_type": "stream",
     "text": [
      "127.0.0.1 - - [18/Apr/2022 19:45:22] \"\u001b[35m\u001b[1mPOST /_dash-update-component HTTP/1.1\u001b[0m\" 500 -\n"
     ]
    },
    {
     "name": "stdout",
     "output_type": "stream",
     "text": [
      "Exception on /_dash-update-component [POST]\n",
      "Traceback (most recent call last):\n",
      "  File \"C:\\Users\\alamg\\anaconda3\\lib\\site-packages\\flask\\app.py\", line 2447, in wsgi_app\n",
      "    response = self.full_dispatch_request()\n",
      "  File \"C:\\Users\\alamg\\anaconda3\\lib\\site-packages\\flask\\app.py\", line 1952, in full_dispatch_request\n",
      "    rv = self.handle_user_exception(e)\n",
      "  File \"C:\\Users\\alamg\\anaconda3\\lib\\site-packages\\flask\\app.py\", line 1821, in handle_user_exception\n",
      "    reraise(exc_type, exc_value, tb)\n",
      "  File \"C:\\Users\\alamg\\anaconda3\\lib\\site-packages\\flask\\_compat.py\", line 39, in reraise\n",
      "    raise value\n",
      "  File \"C:\\Users\\alamg\\anaconda3\\lib\\site-packages\\flask\\app.py\", line 1950, in full_dispatch_request\n",
      "    rv = self.dispatch_request()\n",
      "  File \"C:\\Users\\alamg\\anaconda3\\lib\\site-packages\\flask\\app.py\", line 1936, in dispatch_request\n",
      "    return self.view_functions[rule.endpoint](**req.view_args)\n",
      "  File \"C:\\Users\\alamg\\anaconda3\\lib\\site-packages\\dash\\dash.py\", line 1383, in dispatch\n",
      "    response.set_data(func(*args, outputs_list=outputs_list))\n",
      "  File \"C:\\Users\\alamg\\anaconda3\\lib\\site-packages\\dash\\_callback.py\", line 151, in add_context\n",
      "    output_value = func(*func_args, **func_kwargs)  # %% callback invoked %%\n",
      "  File \"<ipython-input-8-c5db833fd72f>\", line 82, in get_graph\n",
      "    df =  airline_data[airline_data['Year']==int(year)]\n",
      "TypeError: int() argument must be a string, a bytes-like object or a number, not 'NoneType'\n"
     ]
    },
    {
     "name": "stderr",
     "output_type": "stream",
     "text": [
      "127.0.0.1 - - [18/Apr/2022 19:48:34] \"\u001b[35m\u001b[1mPOST /_dash-update-component HTTP/1.1\u001b[0m\" 500 -\n",
      "127.0.0.1 - - [18/Apr/2022 19:49:24] \"\u001b[37mPOST /_dash-update-component HTTP/1.1\u001b[0m\" 200 -\n",
      "127.0.0.1 - - [18/Apr/2022 19:49:24] \"\u001b[37mGET /_dash-component-suites/dash/dcc/async-graph.js HTTP/1.1\u001b[0m\" 200 -\n",
      "127.0.0.1 - - [18/Apr/2022 19:49:24] \"\u001b[37mGET /_dash-component-suites/dash/dcc/async-plotlyjs.js HTTP/1.1\u001b[0m\" 200 -\n",
      "127.0.0.1 - - [18/Apr/2022 19:50:49] \"\u001b[37mPOST /_dash-update-component HTTP/1.1\u001b[0m\" 200 -\n",
      "127.0.0.1 - - [18/Apr/2022 19:52:12] \"\u001b[37mPOST /_dash-update-component HTTP/1.1\u001b[0m\" 200 -\n",
      "127.0.0.1 - - [18/Apr/2022 19:52:17] \"\u001b[37mPOST /_dash-update-component HTTP/1.1\u001b[0m\" 200 -\n",
      "127.0.0.1 - - [18/Apr/2022 19:52:46] \"\u001b[37mPOST /_dash-update-component HTTP/1.1\u001b[0m\" 200 -\n",
      "127.0.0.1 - - [18/Apr/2022 19:53:08] \"\u001b[37mPOST /_dash-update-component HTTP/1.1\u001b[0m\" 200 -\n",
      "127.0.0.1 - - [18/Apr/2022 19:53:35] \"\u001b[37mPOST /_dash-update-component HTTP/1.1\u001b[0m\" 200 -\n",
      "127.0.0.1 - - [18/Apr/2022 19:54:05] \"\u001b[37mPOST /_dash-update-component HTTP/1.1\u001b[0m\" 200 -\n",
      "127.0.0.1 - - [18/Apr/2022 19:58:49] \"\u001b[37mPOST /_dash-update-component HTTP/1.1\u001b[0m\" 200 -\n",
      "127.0.0.1 - - [18/Apr/2022 19:58:56] \"\u001b[37mGET / HTTP/1.1\u001b[0m\" 200 -\n",
      "127.0.0.1 - - [18/Apr/2022 19:58:56] \"\u001b[37mGET /_dash-layout HTTP/1.1\u001b[0m\" 200 -\n",
      "127.0.0.1 - - [18/Apr/2022 19:58:56] \"\u001b[37mGET /_dash-dependencies HTTP/1.1\u001b[0m\" 200 -\n"
     ]
    },
    {
     "name": "stdout",
     "output_type": "stream",
     "text": [
      "Exception on /_dash-update-component [POST]\n",
      "Traceback (most recent call last):\n",
      "  File \"C:\\Users\\alamg\\anaconda3\\lib\\site-packages\\flask\\app.py\", line 2447, in wsgi_app\n",
      "    response = self.full_dispatch_request()\n",
      "  File \"C:\\Users\\alamg\\anaconda3\\lib\\site-packages\\flask\\app.py\", line 1952, in full_dispatch_request\n",
      "    rv = self.handle_user_exception(e)\n",
      "  File \"C:\\Users\\alamg\\anaconda3\\lib\\site-packages\\flask\\app.py\", line 1821, in handle_user_exception\n",
      "    reraise(exc_type, exc_value, tb)\n",
      "  File \"C:\\Users\\alamg\\anaconda3\\lib\\site-packages\\flask\\_compat.py\", line 39, in reraise\n",
      "    raise value\n",
      "  File \"C:\\Users\\alamg\\anaconda3\\lib\\site-packages\\flask\\app.py\", line 1950, in full_dispatch_request\n",
      "    rv = self.dispatch_request()\n",
      "  File \"C:\\Users\\alamg\\anaconda3\\lib\\site-packages\\flask\\app.py\", line 1936, in dispatch_request\n",
      "    return self.view_functions[rule.endpoint](**req.view_args)\n",
      "  File \"C:\\Users\\alamg\\anaconda3\\lib\\site-packages\\dash\\dash.py\", line 1383, in dispatch\n",
      "    response.set_data(func(*args, outputs_list=outputs_list))\n",
      "  File \"C:\\Users\\alamg\\anaconda3\\lib\\site-packages\\dash\\_callback.py\", line 151, in add_context\n",
      "    output_value = func(*func_args, **func_kwargs)  # %% callback invoked %%\n",
      "  File \"<ipython-input-8-c5db833fd72f>\", line 82, in get_graph\n",
      "    df =  airline_data[airline_data['Year']==int(year)]\n",
      "TypeError: int() argument must be a string, a bytes-like object or a number, not 'NoneType'\n"
     ]
    },
    {
     "name": "stderr",
     "output_type": "stream",
     "text": [
      "127.0.0.1 - - [18/Apr/2022 19:58:56] \"\u001b[35m\u001b[1mPOST /_dash-update-component HTTP/1.1\u001b[0m\" 500 -\n",
      "127.0.0.1 - - [18/Apr/2022 19:58:56] \"\u001b[37mGET /_dash-component-suites/dash/dcc/async-dropdown.js HTTP/1.1\u001b[0m\" 200 -\n",
      "127.0.0.1 - - [18/Apr/2022 19:58:56] \"\u001b[37mGET /_favicon.ico?v=2.3.1 HTTP/1.1\u001b[0m\" 200 -\n"
     ]
    },
    {
     "name": "stdout",
     "output_type": "stream",
     "text": [
      "Exception on /_dash-update-component [POST]\n",
      "Traceback (most recent call last):\n",
      "  File \"C:\\Users\\alamg\\anaconda3\\lib\\site-packages\\flask\\app.py\", line 2447, in wsgi_app\n",
      "    response = self.full_dispatch_request()\n",
      "  File \"C:\\Users\\alamg\\anaconda3\\lib\\site-packages\\flask\\app.py\", line 1952, in full_dispatch_request\n",
      "    rv = self.handle_user_exception(e)\n",
      "  File \"C:\\Users\\alamg\\anaconda3\\lib\\site-packages\\flask\\app.py\", line 1821, in handle_user_exception\n",
      "    reraise(exc_type, exc_value, tb)\n",
      "  File \"C:\\Users\\alamg\\anaconda3\\lib\\site-packages\\flask\\_compat.py\", line 39, in reraise\n",
      "    raise value\n",
      "  File \"C:\\Users\\alamg\\anaconda3\\lib\\site-packages\\flask\\app.py\", line 1950, in full_dispatch_request\n",
      "    rv = self.dispatch_request()\n",
      "  File \"C:\\Users\\alamg\\anaconda3\\lib\\site-packages\\flask\\app.py\", line 1936, in dispatch_request\n",
      "    return self.view_functions[rule.endpoint](**req.view_args)\n",
      "  File \"C:\\Users\\alamg\\anaconda3\\lib\\site-packages\\dash\\dash.py\", line 1383, in dispatch\n",
      "    response.set_data(func(*args, outputs_list=outputs_list))\n",
      "  File \"C:\\Users\\alamg\\anaconda3\\lib\\site-packages\\dash\\_callback.py\", line 151, in add_context\n",
      "    output_value = func(*func_args, **func_kwargs)  # %% callback invoked %%\n",
      "  File \"<ipython-input-8-c5db833fd72f>\", line 82, in get_graph\n",
      "    df =  airline_data[airline_data['Year']==int(year)]\n",
      "TypeError: int() argument must be a string, a bytes-like object or a number, not 'NoneType'\n"
     ]
    },
    {
     "name": "stderr",
     "output_type": "stream",
     "text": [
      "127.0.0.1 - - [18/Apr/2022 19:59:01] \"\u001b[35m\u001b[1mPOST /_dash-update-component HTTP/1.1\u001b[0m\" 500 -\n"
     ]
    },
    {
     "name": "stdout",
     "output_type": "stream",
     "text": [
      "Exception on /_dash-update-component [POST]\n",
      "Traceback (most recent call last):\n",
      "  File \"C:\\Users\\alamg\\anaconda3\\lib\\site-packages\\flask\\app.py\", line 2447, in wsgi_app\n",
      "    response = self.full_dispatch_request()\n",
      "  File \"C:\\Users\\alamg\\anaconda3\\lib\\site-packages\\flask\\app.py\", line 1952, in full_dispatch_request\n",
      "    rv = self.handle_user_exception(e)\n",
      "  File \"C:\\Users\\alamg\\anaconda3\\lib\\site-packages\\flask\\app.py\", line 1821, in handle_user_exception\n",
      "    reraise(exc_type, exc_value, tb)\n",
      "  File \"C:\\Users\\alamg\\anaconda3\\lib\\site-packages\\flask\\_compat.py\", line 39, in reraise\n",
      "    raise value\n",
      "  File \"C:\\Users\\alamg\\anaconda3\\lib\\site-packages\\flask\\app.py\", line 1950, in full_dispatch_request\n",
      "    rv = self.dispatch_request()\n",
      "  File \"C:\\Users\\alamg\\anaconda3\\lib\\site-packages\\flask\\app.py\", line 1936, in dispatch_request\n",
      "    return self.view_functions[rule.endpoint](**req.view_args)\n",
      "  File \"C:\\Users\\alamg\\anaconda3\\lib\\site-packages\\dash\\dash.py\", line 1383, in dispatch\n",
      "    response.set_data(func(*args, outputs_list=outputs_list))\n",
      "  File \"C:\\Users\\alamg\\anaconda3\\lib\\site-packages\\dash\\_callback.py\", line 151, in add_context\n",
      "    output_value = func(*func_args, **func_kwargs)  # %% callback invoked %%\n",
      "  File \"<ipython-input-8-c5db833fd72f>\", line 82, in get_graph\n",
      "    df =  airline_data[airline_data['Year']==int(year)]\n",
      "TypeError: int() argument must be a string, a bytes-like object or a number, not 'NoneType'\n"
     ]
    },
    {
     "name": "stderr",
     "output_type": "stream",
     "text": [
      "127.0.0.1 - - [18/Apr/2022 19:59:02] \"\u001b[35m\u001b[1mPOST /_dash-update-component HTTP/1.1\u001b[0m\" 500 -\n"
     ]
    }
   ],
   "source": [
    "if __name__ == '__main__':\n",
    "    app.run_server()"
   ]
  },
  {
   "cell_type": "markdown",
   "id": "ce18d56c",
   "metadata": {},
   "source": [
    "# Conclusion\n",
    "After successfylly running this notevobook, an application with be started on your local computer at ***[http://127.0.0.1:8050/](http://127.0.0.1:8050/)***. From that link, you can visulize all the analysis after selecting different options."
   ]
  }
 ],
 "metadata": {
  "kernelspec": {
   "display_name": "Python 3",
   "language": "python",
   "name": "python3"
  },
  "language_info": {
   "codemirror_mode": {
    "name": "ipython",
    "version": 3
   },
   "file_extension": ".py",
   "mimetype": "text/x-python",
   "name": "python",
   "nbconvert_exporter": "python",
   "pygments_lexer": "ipython3",
   "version": "3.8.8"
  }
 },
 "nbformat": 4,
 "nbformat_minor": 5
}
